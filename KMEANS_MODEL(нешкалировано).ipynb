{
 "cells": [
  {
   "cell_type": "code",
   "execution_count": 1,
   "id": "a5ecfc94-8538-400d-9173-a0ee83d449ae",
   "metadata": {},
   "outputs": [],
   "source": [
    "import pandas as pd\n",
    "import seaborn as sns\n",
    "import numpy as np\n",
    "import matplotlib.pyplot as plt\n",
    "from sklearn.neighbors import NearestNeighbors\n",
    "from sklearn.cluster import KMeans\n",
    "from sklearn.preprocessing import QuantileTransformer"
   ]
  },
  {
   "cell_type": "code",
   "execution_count": 2,
   "id": "8584236b-f1da-4b58-b916-6b0aa259aafe",
   "metadata": {},
   "outputs": [
    {
     "name": "stdout",
     "output_type": "stream",
     "text": [
      "   Персона  Возраст, лет  Стаж вождения, лет  Убыточность, %  \\\n",
      "0  6-LLJEH            20                   1             263   \n",
      "1  2-GLHFG            74                  51             107   \n",
      "2  6-FJFKL            27                   1             165   \n",
      "3  4-KJEJL            24                   6             348   \n",
      "4  5-JFFGH            26                   3             286   \n",
      "\n",
      "   Уровень заработной платы, руб/год  \n",
      "0                             716693  \n",
      "1                             274393  \n",
      "2                             723841  \n",
      "3                             139419  \n",
      "4                             650003  \n"
     ]
    }
   ],
   "source": [
    "df = pd.read_excel(r'C:\\Users\\Mln\\jupyter-lab\\random_test\\mindset\\task\\Задача.xlsx')\n",
    "\n",
    "print(df.head())"
   ]
  },
  {
   "cell_type": "code",
   "execution_count": 3,
   "id": "ce2f4a7b-1f94-439e-b3f6-c150614c19c2",
   "metadata": {},
   "outputs": [],
   "source": [
    "df = df.drop(['Персона'], axis=1) # удаляю признаки которые не буду рассматривать"
   ]
  },
  {
   "cell_type": "markdown",
   "id": "35115a20-84ed-4c83-b910-169efe311ea6",
   "metadata": {},
   "source": [
    "## Model building"
   ]
  },
  {
   "cell_type": "code",
   "execution_count": 4,
   "id": "3be2b24b-ee12-42bd-93d9-889f0caf96e0",
   "metadata": {},
   "outputs": [],
   "source": [
    "x = df[['Убыточность, %', 'Уровень заработной платы, руб/год']]"
   ]
  },
  {
   "cell_type": "code",
   "execution_count": 5,
   "id": "28bd9e6d-8698-4ab7-bca9-2c714989826c",
   "metadata": {},
   "outputs": [
    {
     "data": {
      "image/png": "[encoded data removed]",
      "text/plain": [
       "<Figure size 432x288 with 1 Axes>"
      ]
     },
     "metadata": {
      "needs_background": "light"
     },
     "output_type": "display_data"
    }
   ],
   "source": [
    "inertia = []\n",
    "for k in range(1, 10):\n",
    "    k_means = KMeans(n_clusters=k, random_state=42).fit(x)\n",
    "    inertia.append(np.sqrt(k_means.inertia_))\n",
    "    \n",
    "plt.plot(range(1, 10), inertia, marker='o')\n",
    "plt.xlabel('$k$')\n",
    "plt.ylabel('$J(C_k)$')\n",
    "plt.show()"
   ]
  },
  {
   "cell_type": "code",
   "execution_count": 6,
   "id": "fcea2a09-7d3a-4e0f-b3fc-2abc6665626d",
   "metadata": {},
   "outputs": [
    {
     "data": {
      "text/plain": [
       "KMeans(n_clusters=2)"
      ]
     },
     "execution_count": 6,
     "metadata": {},
     "output_type": "execute_result"
    }
   ],
   "source": [
    "model = KMeans(n_clusters=2, init='k-means++')\n",
    "model.fit(x)"
   ]
  },
  {
   "cell_type": "code",
   "execution_count": 7,
   "id": "fe32c704-ad48-4bd0-a7c3-42701d6ad600",
   "metadata": {},
   "outputs": [],
   "source": [
    "y_predicted = model.fit_predict(x) # предсказываю значения"
   ]
  },
  {
   "cell_type": "code",
   "execution_count": 8,
   "id": "756778f7-5a7d-4c42-97c3-91a30c309ee7",
   "metadata": {},
   "outputs": [
    {
     "data": {
      "text/html": [
       "<div>\n",
       "<style scoped>\n",
       "    .dataframe tbody tr th:only-of-type {\n",
       "        vertical-align: middle;\n",
       "    }\n",
       "\n",
       "    .dataframe tbody tr th {\n",
       "        vertical-align: top;\n",
       "    }\n",
       "\n",
       "    .dataframe thead th {\n",
       "        text-align: right;\n",
       "    }\n",
       "</style>\n",
       "<table border=\"1\" class=\"dataframe\">\n",
       "  <thead>\n",
       "    <tr style=\"text-align: right;\">\n",
       "      <th></th>\n",
       "      <th>Возраст, лет</th>\n",
       "      <th>Стаж вождения, лет</th>\n",
       "      <th>Убыточность, %</th>\n",
       "      <th>Уровень заработной платы, руб/год</th>\n",
       "      <th>cluster</th>\n",
       "    </tr>\n",
       "  </thead>\n",
       "  <tbody>\n",
       "    <tr>\n",
       "      <th>0</th>\n",
       "      <td>20</td>\n",
       "      <td>1</td>\n",
       "      <td>263</td>\n",
       "      <td>716693</td>\n",
       "      <td>0</td>\n",
       "    </tr>\n",
       "    <tr>\n",
       "      <th>1</th>\n",
       "      <td>74</td>\n",
       "      <td>51</td>\n",
       "      <td>107</td>\n",
       "      <td>274393</td>\n",
       "      <td>0</td>\n",
       "    </tr>\n",
       "    <tr>\n",
       "      <th>2</th>\n",
       "      <td>27</td>\n",
       "      <td>1</td>\n",
       "      <td>165</td>\n",
       "      <td>723841</td>\n",
       "      <td>0</td>\n",
       "    </tr>\n",
       "    <tr>\n",
       "      <th>3</th>\n",
       "      <td>24</td>\n",
       "      <td>6</td>\n",
       "      <td>348</td>\n",
       "      <td>139419</td>\n",
       "      <td>0</td>\n",
       "    </tr>\n",
       "    <tr>\n",
       "      <th>4</th>\n",
       "      <td>26</td>\n",
       "      <td>3</td>\n",
       "      <td>286</td>\n",
       "      <td>650003</td>\n",
       "      <td>0</td>\n",
       "    </tr>\n",
       "    <tr>\n",
       "      <th>...</th>\n",
       "      <td>...</td>\n",
       "      <td>...</td>\n",
       "      <td>...</td>\n",
       "      <td>...</td>\n",
       "      <td>...</td>\n",
       "    </tr>\n",
       "    <tr>\n",
       "      <th>479</th>\n",
       "      <td>67</td>\n",
       "      <td>31</td>\n",
       "      <td>102</td>\n",
       "      <td>3630438</td>\n",
       "      <td>1</td>\n",
       "    </tr>\n",
       "    <tr>\n",
       "      <th>480</th>\n",
       "      <td>67</td>\n",
       "      <td>44</td>\n",
       "      <td>189</td>\n",
       "      <td>232022</td>\n",
       "      <td>0</td>\n",
       "    </tr>\n",
       "    <tr>\n",
       "      <th>481</th>\n",
       "      <td>20</td>\n",
       "      <td>5</td>\n",
       "      <td>285</td>\n",
       "      <td>622134</td>\n",
       "      <td>0</td>\n",
       "    </tr>\n",
       "    <tr>\n",
       "      <th>482</th>\n",
       "      <td>49</td>\n",
       "      <td>38</td>\n",
       "      <td>65</td>\n",
       "      <td>3607848</td>\n",
       "      <td>1</td>\n",
       "    </tr>\n",
       "    <tr>\n",
       "      <th>483</th>\n",
       "      <td>35</td>\n",
       "      <td>7</td>\n",
       "      <td>580</td>\n",
       "      <td>161603</td>\n",
       "      <td>0</td>\n",
       "    </tr>\n",
       "  </tbody>\n",
       "</table>\n",
       "<p>484 rows × 5 columns</p>\n",
       "</div>"
      ],
      "text/plain": [
       "     Возраст, лет  Стаж вождения, лет  Убыточность, %  \\\n",
       "0              20                   1             263   \n",
       "1              74                  51             107   \n",
       "2              27                   1             165   \n",
       "3              24                   6             348   \n",
       "4              26                   3             286   \n",
       "..            ...                 ...             ...   \n",
       "479            67                  31             102   \n",
       "480            67                  44             189   \n",
       "481            20                   5             285   \n",
       "482            49                  38              65   \n",
       "483            35                   7             580   \n",
       "\n",
       "     Уровень заработной платы, руб/год  cluster  \n",
       "0                               716693        0  \n",
       "1                               274393        0  \n",
       "2                               723841        0  \n",
       "3                               139419        0  \n",
       "4                               650003        0  \n",
       "..                                 ...      ...  \n",
       "479                            3630438        1  \n",
       "480                             232022        0  \n",
       "481                             622134        0  \n",
       "482                            3607848        1  \n",
       "483                             161603        0  \n",
       "\n",
       "[484 rows x 5 columns]"
      ]
     },
     "execution_count": 8,
     "metadata": {},
     "output_type": "execute_result"
    }
   ],
   "source": [
    "df['cluster'] = y_predicted #добовляю новую колонку в датафрейм\n",
    "df"
   ]
  },
  {
   "cell_type": "code",
   "execution_count": 9,
   "id": "bf9fcf5e-c2da-452f-8cd6-a4294b80c68a",
   "metadata": {},
   "outputs": [
    {
     "data": {
      "text/html": [
       "<div>\n",
       "<style scoped>\n",
       "    .dataframe tbody tr th:only-of-type {\n",
       "        vertical-align: middle;\n",
       "    }\n",
       "\n",
       "    .dataframe tbody tr th {\n",
       "        vertical-align: top;\n",
       "    }\n",
       "\n",
       "    .dataframe thead th {\n",
       "        text-align: right;\n",
       "    }\n",
       "</style>\n",
       "<table border=\"1\" class=\"dataframe\">\n",
       "  <thead>\n",
       "    <tr style=\"text-align: right;\">\n",
       "      <th></th>\n",
       "      <th>Возраст, лет</th>\n",
       "      <th>Стаж вождения, лет</th>\n",
       "      <th>Убыточность, %</th>\n",
       "      <th>Уровень заработной платы, руб/год</th>\n",
       "      <th>cluster</th>\n",
       "    </tr>\n",
       "  </thead>\n",
       "  <tbody>\n",
       "    <tr>\n",
       "      <th>0</th>\n",
       "      <td>20</td>\n",
       "      <td>1</td>\n",
       "      <td>263</td>\n",
       "      <td>716693</td>\n",
       "      <td>0</td>\n",
       "    </tr>\n",
       "    <tr>\n",
       "      <th>1</th>\n",
       "      <td>74</td>\n",
       "      <td>51</td>\n",
       "      <td>107</td>\n",
       "      <td>274393</td>\n",
       "      <td>0</td>\n",
       "    </tr>\n",
       "    <tr>\n",
       "      <th>2</th>\n",
       "      <td>27</td>\n",
       "      <td>1</td>\n",
       "      <td>165</td>\n",
       "      <td>723841</td>\n",
       "      <td>0</td>\n",
       "    </tr>\n",
       "    <tr>\n",
       "      <th>3</th>\n",
       "      <td>24</td>\n",
       "      <td>6</td>\n",
       "      <td>348</td>\n",
       "      <td>139419</td>\n",
       "      <td>0</td>\n",
       "    </tr>\n",
       "    <tr>\n",
       "      <th>4</th>\n",
       "      <td>26</td>\n",
       "      <td>3</td>\n",
       "      <td>286</td>\n",
       "      <td>650003</td>\n",
       "      <td>0</td>\n",
       "    </tr>\n",
       "  </tbody>\n",
       "</table>\n",
       "</div>"
      ],
      "text/plain": [
       "   Возраст, лет  Стаж вождения, лет  Убыточность, %  \\\n",
       "0            20                   1             263   \n",
       "1            74                  51             107   \n",
       "2            27                   1             165   \n",
       "3            24                   6             348   \n",
       "4            26                   3             286   \n",
       "\n",
       "   Уровень заработной платы, руб/год cluster  \n",
       "0                             716693       0  \n",
       "1                             274393       0  \n",
       "2                             723841       0  \n",
       "3                             139419       0  \n",
       "4                             650003       0  "
      ]
     },
     "execution_count": 9,
     "metadata": {},
     "output_type": "execute_result"
    }
   ],
   "source": [
    "df['cluster'] = df['cluster'].astype(object) #change the data type\n",
    "df.head()"
   ]
  },
  {
   "cell_type": "code",
   "execution_count": 10,
   "id": "771abac3-287e-45cc-a9a2-8fbdf2e8978d",
   "metadata": {},
   "outputs": [
    {
     "data": {
      "text/plain": [
       "array([0, 1], dtype=object)"
      ]
     },
     "execution_count": 10,
     "metadata": {},
     "output_type": "execute_result"
    }
   ],
   "source": [
    "df['cluster'].unique()"
   ]
  },
  {
   "cell_type": "code",
   "execution_count": 11,
   "id": "ccc2fbc2-3a44-45d1-9304-d3f7cf1966ff",
   "metadata": {},
   "outputs": [],
   "source": [
    "X = x.values"
   ]
  },
  {
   "cell_type": "code",
   "execution_count": 12,
   "id": "6d25b9f0-f3e1-4dce-a080-57757f759e7f",
   "metadata": {},
   "outputs": [
    {
     "data": {
      "image/png": "[encoded data removed]",
      "text/plain": [
       "<Figure size 432x288 with 1 Axes>"
      ]
     },
     "metadata": {
      "needs_background": "light"
     },
     "output_type": "display_data"
    }
   ],
   "source": [
    "sns.scatterplot(x = x.iloc[:,0], y = x.iloc[:,1], data=df, hue=df['cluster']) # строю график с классами\n",
    "\n",
    "sns.scatterplot(x = model.cluster_centers_[:, 0], y = model.cluster_centers_[:, 1], color='red') # добавляю на график центроиды\n",
    "\n",
    "plt.title('Кластеризация признаков: Убыточность, % и Уровень заработной платы, руб/год'.format(x))\n",
    "\n",
    "plt.legend()\n",
    "plt.show()"
   ]
  },
  {
   "cell_type": "code",
   "execution_count": 13,
   "id": "13626f93-1ce8-40a9-9dba-fbd15fa3940e",
   "metadata": {},
   "outputs": [
    {
     "data": {
      "text/plain": [
       "0    363\n",
       "1    121\n",
       "Name: 0, dtype: int64"
      ]
     },
     "execution_count": 13,
     "metadata": {},
     "output_type": "execute_result"
    }
   ],
   "source": [
    "output = pd.DataFrame(data=y_predicted) # создаю датафрейм с предсказанными классами\n",
    "output[0].value_counts(ascending=False) #количество наблюдений в каждом классе"
   ]
  },
  {
   "cell_type": "code",
   "execution_count": 14,
   "id": "42e323ab-02ae-4ac8-9263-a7b32b0fdee9",
   "metadata": {},
   "outputs": [
    {
     "data": {
      "text/html": [
       "<div>\n",
       "<style scoped>\n",
       "    .dataframe tbody tr th:only-of-type {\n",
       "        vertical-align: middle;\n",
       "    }\n",
       "\n",
       "    .dataframe tbody tr th {\n",
       "        vertical-align: top;\n",
       "    }\n",
       "\n",
       "    .dataframe thead th {\n",
       "        text-align: right;\n",
       "    }\n",
       "</style>\n",
       "<table border=\"1\" class=\"dataframe\">\n",
       "  <thead>\n",
       "    <tr style=\"text-align: right;\">\n",
       "      <th></th>\n",
       "      <th>Убыточность, %</th>\n",
       "      <th>Уровень заработной платы, руб/год</th>\n",
       "    </tr>\n",
       "    <tr>\n",
       "      <th>cluster</th>\n",
       "      <th></th>\n",
       "      <th></th>\n",
       "    </tr>\n",
       "  </thead>\n",
       "  <tbody>\n",
       "    <tr>\n",
       "      <th>0</th>\n",
       "      <td>280.848</td>\n",
       "      <td>364289.116</td>\n",
       "    </tr>\n",
       "    <tr>\n",
       "      <th>1</th>\n",
       "      <td>65.752</td>\n",
       "      <td>2978736.000</td>\n",
       "    </tr>\n",
       "  </tbody>\n",
       "</table>\n",
       "</div>"
      ],
      "text/plain": [
       "         Убыточность, %  Уровень заработной платы, руб/год\n",
       "cluster                                                   \n",
       "0               280.848                         364289.116\n",
       "1                65.752                        2978736.000"
      ]
     },
     "execution_count": 14,
     "metadata": {},
     "output_type": "execute_result"
    }
   ],
   "source": [
    "pd.set_option('display.float_format', lambda x: '%.3f' % x) # убираем в выводе экспоненту\n",
    "df.groupby('cluster')[['Убыточность, %', 'Уровень заработной платы, руб/год']].mean()"
   ]
  },
  {
   "cell_type": "markdown",
   "id": "0723c3a9-25a2-4086-9138-278acf6f1b83",
   "metadata": {},
   "source": [
    "На основе предложенных данных видно, что убыточность зависит от уровня заработной платы в год. \n",
    "Чем выше уровень заработной платы, тем меньше показатель убыточности и наоборот, чем ниже зарплата у персоны, тем выше показатель убыточности. \n",
    "\n",
    "Данные разбиты на две группы: \n",
    "\n",
    "1. Люди с высоким годовым доходом (0 кластер)\n",
    "2. Люди со средным и ниже среднего годовым доходом (1 кластер)\n",
    "\n",
    "Первый кластер - люди с средним/низким годовым доходом, средняя убыточность в этом кластере составляет 280.848%, а среднее число годовой запралаты 364289.116 рублей. \n",
    "Могу предположить почему люди с низким годовым доходом имеют высокие показатели убыточности. Допустим, рассмотрим водителя курьера или же водителя маршрутных транспротных средств, при такой работе: частое взаимодействие с авто или другим видом транспортного средства, возрастает значение риска попасть в ДТП, скорее всего это и проявляется в высоком показателе убыточности.\n",
    "\n",
    "Вторая группа - люди с высоким годовым доходом, средняя убыточность в этом кластере составляет 65.752%, а среднее число годовой запралаты 2978736 рублей. \n",
    "Предполагаю, что люди с высоким годовым доходом проводят меньше времени на дорогах общего пользования, поэтому этот кластер обладает самым низким показателем убыточности."
   ]
  },
  {
   "cell_type": "code",
   "execution_count": 38,
   "id": "2b8b0467-1d35-4264-99ed-9c53a376e34e",
   "metadata": {},
   "outputs": [],
   "source": [
    "import pickle\n",
    "pickle.dump(model, open('model.pkl', 'wb'))"
   ]
  }
 ],
 "metadata": {
  "kernelspec": {
   "display_name": "Python 3 (ipykernel)",
   "language": "python",
   "name": "python3"
  },
  "language_info": {
   "codemirror_mode": {
    "name": "ipython",
    "version": 3
   },
   "file_extension": ".py",
   "mimetype": "text/x-python",
   "name": "python",
   "nbconvert_exporter": "python",
   "pygments_lexer": "ipython3",
   "version": "3.9.6"
  }
 },
 "nbformat": 4,
 "nbformat_minor": 5
}
